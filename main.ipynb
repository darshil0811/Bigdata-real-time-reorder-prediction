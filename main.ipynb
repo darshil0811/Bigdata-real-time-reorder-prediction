{
 "cells": [
  {
   "cell_type": "code",
   "execution_count": 1,
   "metadata": {},
   "outputs": [
    {
     "name": "stdout",
     "output_type": "stream",
     "text": [
      "⬆️ Uploading products.csv to s3://bigdatabi/raw/products.csv\n",
      "⬆️ Uploading orders.csv to s3://bigdatabi/raw/orders.csv\n",
      "⬆️ Uploading order_products__train.csv to s3://bigdatabi/raw/order_products__train.csv\n",
      "⬆️ Uploading departments.csv to s3://bigdatabi/raw/departments.csv\n",
      "⬆️ Uploading aisles.csv to s3://bigdatabi/raw/aisles.csv\n",
      "⬆️ Uploading order_products__prior.csv to s3://bigdatabi/raw/order_products__prior.csv\n",
      "✅ All files uploaded to S3.\n"
     ]
    }
   ],
   "source": [
    "# ----------------------------------------------\n",
    "# ✅ Step 1: Upload manually downloaded CSVs to S3\n",
    "# ----------------------------------------------\n",
    "\n",
    "import sys\n",
    "import os\n",
    "\n",
    "# Add scripts folder to path\n",
    "scripts_path = os.path.abspath(\"scripts\")\n",
    "if scripts_path not in sys.path:\n",
    "    sys.path.append(scripts_path)\n",
    "\n",
    "# Import S3 uploader\n",
    "import s3_uploader\n",
    "\n",
    "# Upload local CSVs from ./data to S3\n",
    "s3_uploader.upload_folder_to_s3(\n",
    "    local_folder=\"data\",\n",
    "    bucket_name=\"bigdatabi\",\n",
    "    s3_prefix=\"raw\",\n",
    "    profile_name=\"GenAI_Permission-688567268018\"\n",
    ")\n"
   ]
  },
  {
   "cell_type": "code",
   "execution_count": 1,
   "metadata": {},
   "outputs": [
    {
     "name": "stdout",
     "output_type": "stream",
     "text": [
      "✅ Rows in order_products__prior.csv: 32,434,489\n"
     ]
    }
   ],
   "source": [
    "# ---------------------------------------------------\n",
    "# ✅ Step 2: Read Instacart CSVs from S3 and inspect\n",
    "# ---------------------------------------------------\n",
    "\n",
    "from scripts.s3_reader import read_csv_from_s3\n",
    "\n",
    "bucket = \"bigdatabi\"\n",
    "profile = \"GenAI_Permission-688567268018\"\n",
    "prefix = \"raw\"\n",
    "\n",
    "# Load main datasets\n",
    "orders = read_csv_from_s3(bucket, f\"{prefix}/orders.csv\", profile)\n",
    "prior = read_csv_from_s3(bucket, f\"{prefix}/order_products__prior.csv\", profile)\n",
    "train = read_csv_from_s3(bucket, f\"{prefix}/order_products__train.csv\", profile)\n",
    "products = read_csv_from_s3(bucket, f\"{prefix}/products.csv\", profile)\n",
    "aisles = read_csv_from_s3(bucket, f\"{prefix}/aisles.csv\", profile)\n",
    "departments = read_csv_from_s3(bucket, f\"{prefix}/departments.csv\", profile)\n",
    "\n",
    "# Check number of rows in main file\n",
    "print(f\"✅ Rows in order_products__prior.csv: {prior.shape[0]:,}\")\n"
   ]
  },
  {
   "cell_type": "code",
   "execution_count": 4,
   "metadata": {},
   "outputs": [
    {
     "name": "stdout",
     "output_type": "stream",
     "text": [
      "Collecting xgboost\n",
      "  Downloading xgboost-3.0.0-py3-none-macosx_12_0_arm64.whl.metadata (2.1 kB)\n",
      "Requirement already satisfied: scikit-learn in /opt/anaconda3/envs/ML_AI_ENV/lib/python3.12/site-packages (1.5.2)\n",
      "Requirement already satisfied: numpy in /opt/anaconda3/envs/ML_AI_ENV/lib/python3.12/site-packages (from xgboost) (1.26.4)\n",
      "Requirement already satisfied: scipy in /opt/anaconda3/envs/ML_AI_ENV/lib/python3.12/site-packages (from xgboost) (1.14.1)\n",
      "Requirement already satisfied: joblib>=1.2.0 in /opt/anaconda3/envs/ML_AI_ENV/lib/python3.12/site-packages (from scikit-learn) (1.4.2)\n",
      "Requirement already satisfied: threadpoolctl>=3.1.0 in /opt/anaconda3/envs/ML_AI_ENV/lib/python3.12/site-packages (from scikit-learn) (3.5.0)\n",
      "Downloading xgboost-3.0.0-py3-none-macosx_12_0_arm64.whl (2.0 MB)\n",
      "\u001b[2K   \u001b[90m━━━━━━━━━━━━━━━━━━━━━━━━━━━━━━━━━━━━━━━━\u001b[0m \u001b[32m2.0/2.0 MB\u001b[0m \u001b[31m8.1 MB/s\u001b[0m eta \u001b[36m0:00:00\u001b[0ma \u001b[36m0:00:01\u001b[0m\n",
      "\u001b[?25hInstalling collected packages: xgboost\n",
      "Successfully installed xgboost-3.0.0\n"
     ]
    }
   ],
   "source": [
    "!pip install xgboost scikit-learn\n"
   ]
  },
  {
   "cell_type": "code",
   "execution_count": 2,
   "metadata": {},
   "outputs": [
    {
     "name": "stdout",
     "output_type": "stream",
     "text": [
      "🔗 Merging prior orders with order info...\n",
      "🧠 Creating user-product features from prior orders...\n",
      "🏷️ Generating 0/1 labels from train users...\n"
     ]
    },
    {
     "name": "stderr",
     "output_type": "stream",
     "text": [
      "/Users/darshilshah/Documents/AIGC/BA/Final_Project/scripts/data_preprocessor.py:38: SettingWithCopyWarning: \n",
      "A value is trying to be set on a copy of a slice from a DataFrame.\n",
      "Try using .loc[row_indexer,col_indexer] = value instead\n",
      "\n",
      "See the caveats in the documentation: https://pandas.pydata.org/pandas-docs/stable/user_guide/indexing.html#returning-a-view-versus-a-copy\n",
      "  reordered_items['reordered'] = 1\n"
     ]
    },
    {
     "name": "stdout",
     "output_type": "stream",
     "text": [
      "✅ Final ML dataset: 8,474,661 rows, 9 columns\n",
      "🔢 Label distribution:\n",
      "reordered\n",
      "0    7645837\n",
      "1     828824\n",
      "Name: count, dtype: int64\n"
     ]
    }
   ],
   "source": [
    "import importlib\n",
    "import scripts.data_preprocessor as dp\n",
    "importlib.reload(dp)\n",
    "\n",
    "df_ml = dp.prepare_features(orders, prior, train, products)\n"
   ]
  },
  {
   "cell_type": "code",
   "execution_count": 3,
   "metadata": {},
   "outputs": [
    {
     "name": "stdout",
     "output_type": "stream",
     "text": [
      "🚀 Training XGBoost model...\n"
     ]
    },
    {
     "name": "stderr",
     "output_type": "stream",
     "text": [
      "/opt/anaconda3/envs/ML_AI_ENV/lib/python3.12/site-packages/xgboost/training.py:183: UserWarning: [00:56:22] WARNING: /Users/runner/work/xgboost/xgboost/src/learner.cc:738: \n",
      "Parameters: { \"use_label_encoder\" } are not used.\n",
      "\n",
      "  bst.update(dtrain, iteration=i, fobj=obj)\n"
     ]
    },
    {
     "name": "stdout",
     "output_type": "stream",
     "text": [
      "\n",
      "✅ Accuracy: 0.9040\n",
      "📊 Classification Report:\n",
      "               precision    recall  f1-score   support\n",
      "\n",
      "           0       0.91      1.00      0.95   1529168\n",
      "           1       0.59      0.06      0.11    165765\n",
      "\n",
      "    accuracy                           0.90   1694933\n",
      "   macro avg       0.75      0.53      0.53   1694933\n",
      "weighted avg       0.88      0.90      0.87   1694933\n",
      "\n",
      "💾 Model saved to models/xgb_model.pkl\n"
     ]
    }
   ],
   "source": [
    "# ---------------------------------------------------------\n",
    "# ✅ Step 4: Train and Evaluate XGBoost Model on Labeled Data\n",
    "# ---------------------------------------------------------\n",
    "\n",
    "# 📦 Import the model training function\n",
    "from scripts.train_model import train_and_save_model\n",
    "\n",
    "# 🧠 Train the model using the labeled df_ml dataset (~8.4M rows)\n",
    "# ✨ Evaluates accuracy, precision, recall, F1\n",
    "# 💾 Saves trained model to models/xgb_model.pkl for future inference\n",
    "train_and_save_model(df_ml)\n"
   ]
  },
  {
   "cell_type": "code",
   "execution_count": 4,
   "metadata": {},
   "outputs": [
    {
     "name": "stdout",
     "output_type": "stream",
     "text": [
      "Requirement already satisfied: kafka-python in /opt/anaconda3/envs/ML_AI_ENV/lib/python3.12/site-packages (2.1.5)\n",
      "Requirement already satisfied: pandas in /opt/anaconda3/envs/ML_AI_ENV/lib/python3.12/site-packages (2.2.3)\n",
      "Requirement already satisfied: joblib in /opt/anaconda3/envs/ML_AI_ENV/lib/python3.12/site-packages (1.4.2)\n",
      "Requirement already satisfied: xgboost in /opt/anaconda3/envs/ML_AI_ENV/lib/python3.12/site-packages (3.0.0)\n",
      "Requirement already satisfied: numpy>=1.26.0 in /opt/anaconda3/envs/ML_AI_ENV/lib/python3.12/site-packages (from pandas) (1.26.4)\n",
      "Requirement already satisfied: python-dateutil>=2.8.2 in /opt/anaconda3/envs/ML_AI_ENV/lib/python3.12/site-packages (from pandas) (2.9.0.post0)\n",
      "Requirement already satisfied: pytz>=2020.1 in /opt/anaconda3/envs/ML_AI_ENV/lib/python3.12/site-packages (from pandas) (2024.1)\n",
      "Requirement already satisfied: tzdata>=2022.7 in /opt/anaconda3/envs/ML_AI_ENV/lib/python3.12/site-packages (from pandas) (2023.3)\n",
      "Requirement already satisfied: scipy in /opt/anaconda3/envs/ML_AI_ENV/lib/python3.12/site-packages (from xgboost) (1.14.1)\n",
      "Requirement already satisfied: six>=1.5 in /opt/anaconda3/envs/ML_AI_ENV/lib/python3.12/site-packages (from python-dateutil>=2.8.2->pandas) (1.16.0)\n"
     ]
    }
   ],
   "source": [
    "!pip install kafka-python pandas joblib xgboost\n"
   ]
  },
  {
   "cell_type": "code",
   "execution_count": 5,
   "metadata": {},
   "outputs": [
    {
     "name": "stdout",
     "output_type": "stream",
     "text": [
      "Service `zookeeper` already started, use `brew services restart zookeeper` to restart.\n",
      "Service `kafka` already started, use `brew services restart kafka` to restart.\n"
     ]
    }
   ],
   "source": [
    "!brew services start zookeeper\n",
    "!brew services start kafka\n"
   ]
  },
  {
   "cell_type": "code",
   "execution_count": 6,
   "metadata": {},
   "outputs": [],
   "source": [
    "# Save only relevant columns used during prediction\n",
    "df_ml.to_csv(\"data/features_merged.csv\", index=False)\n"
   ]
  },
  {
   "cell_type": "code",
   "execution_count": null,
   "metadata": {},
   "outputs": [
    {
     "name": "stdout",
     "output_type": "stream",
     "text": [
      "📦 Loading prior and order data...\n",
      "📡 Streaming to Kafka topic: reorder-stream...\n"
     ]
    }
   ],
   "source": [
    "import importlib\n",
    "import scripts.kafka_producer as kp  # replace with your module name\n",
    "importlib.reload(kp)\n",
    "\n",
    "# Now call the updated function\n",
    "kp.stream_user_product_pairs(\n",
    "    prior_csv=\"data/order_products__prior.csv\",\n",
    "    orders_csv=\"data/orders.csv\"\n",
    ")\n"
   ]
  }
 ],
 "metadata": {
  "kernelspec": {
   "display_name": "ML_AI_ENV",
   "language": "python",
   "name": "python3"
  },
  "language_info": {
   "codemirror_mode": {
    "name": "ipython",
    "version": 3
   },
   "file_extension": ".py",
   "mimetype": "text/x-python",
   "name": "python",
   "nbconvert_exporter": "python",
   "pygments_lexer": "ipython3",
   "version": "3.12.2"
  }
 },
 "nbformat": 4,
 "nbformat_minor": 2
}
